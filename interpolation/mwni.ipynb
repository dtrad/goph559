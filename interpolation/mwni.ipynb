{
 "cells": [
  {
   "cell_type": "code",
   "execution_count": 11,
   "metadata": {},
   "outputs": [],
   "source": [
    "import numpy as np\n",
    "\n",
    "# Calculate the energy of matrix A\n",
    "def energy(A):\n",
    "    total_energy = 0\n",
    "    for i in range(A.shape[1]):\n",
    "        if np.sum(A[:, i]) != 0:\n",
    "            total_energy += np.dot(A[:, i].conj(), A[:, i])\n",
    "    return total_energy\n",
    "\n",
    "\n",
    "# Sampling function with weights and mapping\n",
    "def sampling(M, nh, _, nx, map_, weights):\n",
    "    d = np.zeros(nh, dtype=complex)\n",
    "    M = M.flatten() * weights.flatten()\n",
    "    m = np.fft.ifft(M)[:nx]\n",
    "    checkshape(d, m, weights)\n",
    "    for i in range(nh):\n",
    "        d[i] = m[map_[i]]\n",
    "    return d\n",
    "\n",
    "\n",
    "# Interpolate function with weights and mapping\n",
    "def interpolate(d, nh, nk, nx, map_, weights):\n",
    "    m = np.zeros(nx, dtype=complex)\n",
    "    checkshape(d, m, weights)\n",
    "    for i in range(nh):\n",
    "        m[map_[i]] = d[i]\n",
    "    M = np.fft.fft(m, nk) / nk\n",
    "    return M * weights.flatten()\n",
    "\n",
    "\n",
    "# Shape check function\n",
    "def checkshape(d, x, w):\n",
    "    if d.ndim > 1 and d.shape[1] > 1:\n",
    "        raise ValueError(\"d is not a vector\")\n",
    "    if x.ndim > 1 and x.shape[1] > 1:\n",
    "        raise ValueError(\"x is not a vector\")\n",
    "    if w.ndim > 1 and w.shape[1] > 1:\n",
    "        raise ValueError(\"w is not a vector\")\n",
    "\n",
    "\n",
    "# Upsample data based on mapping\n",
    "def upsample(d, map_, nx):\n",
    "    nt, nh = d.shape\n",
    "    m = np.zeros((nt, nx), dtype=d.dtype)\n",
    "    for i in range(nh):\n",
    "        if map_[i] > 0:\n",
    "            m[:, map_[i]] = d[:, i]\n",
    "    return m\n",
    "\n",
    "\n",
    "# Downsample data based on mapping\n",
    "def downsample(m, map_, nh):\n",
    "    nt, _ = m.shape\n",
    "    d = np.zeros((nt, nh), dtype=m.dtype)\n",
    "    for i in range(nh):\n",
    "        if map_[i] > 0:\n",
    "            d[:, i] = m[:, map_[i]]\n",
    "    return d\n",
    "\n",
    "\n",
    "# Generate a mapping array for interpolation\n",
    "def mapping(h, x):\n",
    "    nx, nh = len(x), len(h)\n",
    "    map_ = np.zeros(nh, dtype=int)\n",
    "    for i in range(nh):\n",
    "        for j in range(nx):\n",
    "            if round(h[i]) == round(x[j]):\n",
    "                map_[i] = j\n",
    "    return map_\n",
    "\n",
    "\n",
    "# Weighted Conjugate Gradient Least Squares (WTCGLS) for MWNI interpolation\n",
    "def wtcgls_mwni(d, nh, nk, nx, map_, w, niter, _):\n",
    "    eps = 1e-6\n",
    "    X = np.zeros(nk, dtype=complex)\n",
    "    y = np.concatenate([d.flatten(), X])\n",
    "    y0 = sampling(X, nh, nk, nx, map_, w)\n",
    "    y0 = np.concatenate([y0[:nh], eps * X[:nk]])\n",
    "    rr = y - y0\n",
    "    energy = np.dot(rr.conj().T, rr)\n",
    "    gammam = np.dot(rr.conj().T, interpolate(rr, nh, nk, nx, map_, w) + eps * rr[nh:nh + nk])\n",
    "\n",
    "    for iter in range(niter):\n",
    "        ss = sampling(S, nh, nk, nx, map_, w)\n",
    "        ss = np.concatenate([ss[:nh], eps * S[:nk]])\n",
    "        alpha = gammam / np.dot(ss.conj().T, ss)\n",
    "        X += alpha * S\n",
    "        rr -= alpha * ss\n",
    "        G = interpolate(rr, nh, nk, nx, map_, w) + eps * rr[nh:nh + nk]\n",
    "        gammam_new = np.dot(G.conj().T, G)\n",
    "        beta = gammam_new / gammam\n",
    "        S = G + beta * S\n",
    "        gammam = gammam_new\n",
    "\n",
    "        rms = np.sqrt(np.dot(rr.conj().T, rr) / len(rr))\n",
    "        if rms < 1e-2:\n",
    "            break\n",
    "\n",
    "    X *= w.flatten()\n",
    "    x = np.fft.ifft(X)[:nx]\n",
    "    w = smoothing(np.abs(np.fft.fft(x, nk)), 5)\n",
    "    return x, w, iter + 1\n",
    "\n",
    "\n",
    "# Apply band limitation to weights\n",
    "def band_limit(w, nk):\n",
    "    li, ui = round(nk / 4 + 1), round(3 * nk / 4)\n",
    "    w[li:ui] = 0\n",
    "    return w\n",
    "\n",
    "\n",
    "# Apply smoothing with a window size\n",
    "def smoothing(x, nl):\n",
    "    y = x.copy()\n",
    "    nl2 = (nl - 1) // 2\n",
    "    sum_ = np.sum(x[:nl])\n",
    "    for i in range(nl2 + 1, len(x) - nl2):\n",
    "        sum_ += x[i + nl2] - x[i - nl2 - 1]\n",
    "        y[i] = sum_ / nl\n",
    "    return y\n",
    "\n",
    "\n",
    "# Dot product test for validation\n",
    "def dotproduct_test(d, m, w, nh, nk, nx, map_):\n",
    "    eps =1e-7\n",
    "    D1 = np.random.random(d.shape) + 1j * np.random.random(d.shape)\n",
    "    M1 = np.random.random(m.shape) + 1j * np.random.random(m.shape)\n",
    "    D2 = sampling(M1, nh, nk, nx, map_, np.random.random(w.shape))\n",
    "    D2 = np.concatenate([D2[:nh], eps * M1[:nk]])\n",
    "    M2 = interpolate(D1, nh, nk, nx, map_, np.random.random(w.shape))\n",
    "    M2 += eps * D1[nh:nh + nk]\n",
    "    return np.abs(np.dot(D1.conj().T, D2) / np.dot(M1.conj().T, M2))\n",
    "\n",
    "\n",
    "# Duplicate half of the FFT to create a full spectrum\n",
    "def duplic(in_):\n",
    "    NF, NP = in_.shape\n",
    "    if NF < NP:\n",
    "        in_ = in_.T\n",
    "    out = np.zeros((2 * NF, NP), dtype=in_.dtype)\n",
    "    out[:NF, :] = in_\n",
    "    out[NF, :] = in_[NF - 1, :].real\n",
    "    out[NF + 1:, :] = np.conj(np.flipud(in_[:NF - 1, :]))\n",
    "    return out\n"
   ]
  },
  {
   "cell_type": "code",
   "execution_count": 3,
   "metadata": {},
   "outputs": [
    {
     "name": "stdout",
     "output_type": "stream",
     "text": [
      "dict_keys(['__header__', '__version__', '__globals__', 'data', 'datakill', 't', 'h'])\n"
     ]
    }
   ],
   "source": [
    "import numpy as np\n",
    "import matplotlib.pyplot as plt\n",
    "from scipy.io import loadmat\n",
    "\n",
    "# Configuration and initial setup\n",
    "ninterp = 2\n",
    "firstfig = 1\n",
    "method = 'reg'\n",
    "doplot = 2\n",
    "method = method[:3]\n",
    "testnumber = 2\n",
    "\n",
    "# Load data based on test number\n",
    "if testnumber == 1:\n",
    "    data = loadmat('data2.mat')  # replace with correct format or loader\n",
    "elif testnumber == 2:\n",
    "    data = loadmat('curved_noisy.mat')\n",
    "elif testnumber == 3:\n",
    "    data = loadmat('linear_clean_data.mat')\n",
    "elif testnumber == 4:\n",
    "    data = loadmat('linear_noisy_data.mat')\n",
    "\n",
    "# Extract the variable t from the loaded data\n",
    "# print data keys\n",
    "print(data.keys())\n",
    "\n"
   ]
  },
  {
   "cell_type": "code",
   "execution_count": 4,
   "metadata": {},
   "outputs": [],
   "source": [
    "t = data['t']\n",
    "h = data['h']\n",
    "#d = data['data']\n",
    "datakill = data['datakill']\n",
    "data = data['data']\n"
   ]
  },
  {
   "cell_type": "code",
   "execution_count": 5,
   "metadata": {},
   "outputs": [
    {
     "name": "stderr",
     "output_type": "stream",
     "text": [
      "/tmp/ipykernel_13043/3835270485.py:14: DeprecationWarning: Conversion of an array with ndim > 0 to a scalar is deprecated, and will error in future. Ensure you extract a single element from your array before performing this operation. (Deprecated NumPy 1.25.)\n",
      "  h = np.arange(hi[0], hi[-1] + dh, dh)\n"
     ]
    }
   ],
   "source": [
    "# Placeholder for adding noise\n",
    "# for k in range(data.shape[1]):\n",
    "#     data[:, k] += rnoise(data[:, k], 1)\n",
    "#     datakill[:, k] += rnoise(datakill[:, k], 1)\n",
    "\n",
    "# Initializations\n",
    "nz = 10  # zero padding in Kx\n",
    "nt = len(t)  # assuming `t` is defined or loaded previously\n",
    "dt = t[1] - t[0]\n",
    "\n",
    "# Generate regular h from irregular h\n",
    "dh = (h[-1] - h[0]) / (len(h) - 1)\n",
    "hi = h\n",
    "h = np.arange(hi[0], hi[-1] + dh, dh)\n",
    "\n",
    "if len(h) != len(hi):\n",
    "    print(\"Error in h length\")\n",
    "    exit()"
   ]
  },
  {
   "cell_type": "code",
   "execution_count": 6,
   "metadata": {},
   "outputs": [],
   "source": [
    "# Initialize data with gaps filled\n",
    "dataorig = data.copy()\n",
    "hh, data, killnumber = [], [], []\n",
    "\n",
    "for i in range(datakill.shape[1]):\n",
    "    if np.sum(datakill[:, i]) != 0:\n",
    "        hh.append(h[i])\n",
    "        data.append(datakill[:, i])\n",
    "    else:\n",
    "        killnumber.append(i)\n",
    "\n",
    "h = np.array(hh)\n",
    "data = np.array(data).T\n"
   ]
  },
  {
   "cell_type": "code",
   "execution_count": 7,
   "metadata": {},
   "outputs": [
    {
     "name": "stderr",
     "output_type": "stream",
     "text": [
      "/tmp/ipykernel_13043/21063958.py:4: DeprecationWarning: Conversion of an array with ndim > 0 to a scalar is deprecated, and will error in future. Ensure you extract a single element from your array before performing this operation. (Deprecated NumPy 1.25.)\n",
      "  x = np.arange(h[0], h[-1] + dx, dx)\n"
     ]
    }
   ],
   "source": [
    "# Create output axis and other configurations\n",
    "nh = len(h)\n",
    "dx = dh / ninterp\n",
    "x = np.arange(h[0], h[-1] + dx, dx)\n",
    "nx = len(x)\n",
    "nk = nx + nz\n"
   ]
  },
  {
   "cell_type": "code",
   "execution_count": 8,
   "metadata": {},
   "outputs": [],
   "source": [
    "# Placeholder for mapping and upsample functions\n",
    "map_ = mapping(h, x)\n",
    "model = upsample(data, map_, nx)\n"
   ]
  },
  {
   "cell_type": "code",
   "execution_count": 9,
   "metadata": {},
   "outputs": [
    {
     "name": "stdout",
     "output_type": "stream",
     "text": [
      "Size of model: (512, 128)\n"
     ]
    }
   ],
   "source": [
    "print(\"Size of model:\", model.shape)\n",
    "\n",
    "# Fourier transform and processing\n",
    "D = np.fft.fft(data, nt, axis=0)\n",
    "nf = nt // 2\n",
    "df = 1 / (dt * nt)\n",
    "w = 2 * np.pi * np.arange(nf) * df\n",
    "maxfreqHz = 100\n",
    "maxfreq = nf\n",
    "freqaxis = np.arange(maxfreq) * df\n",
    "\n",
    "DH = D[:nf, :]\n",
    "MH = np.zeros((nf, nx), dtype=complex)\n",
    "weights = np.ones(nk)"
   ]
  },
  {
   "cell_type": "code",
   "execution_count": 12,
   "metadata": {},
   "outputs": [
    {
     "name": "stdout",
     "output_type": "stream",
     "text": [
      "Test = 0.8122301496804368\n"
     ]
    }
   ],
   "source": [
    "# Test dot product (requires implementation)\n",
    "test = dotproduct_test(np.concatenate([DH[0, :], np.zeros(nk)]), np.fft.fft(MH[0, :], nk), weights, nh, nk, nx, map_)\n",
    "print(\"Test =\", test)\n"
   ]
  },
  {
   "cell_type": "code",
   "execution_count": 15,
   "metadata": {},
   "outputs": [],
   "source": [
    "weights = band_limit(weights, nk)\n",
    "imaxfreq = int(round(maxfreq))-1\n",
    "Etotal = np.zeros(imaxfreq)\n"
   ]
  },
  {
   "cell_type": "code",
   "execution_count": 16,
   "metadata": {},
   "outputs": [
    {
     "ename": "IndexError",
     "evalue": "tuple index out of range",
     "output_type": "error",
     "traceback": [
      "\u001b[0;31m---------------------------------------------------------------------------\u001b[0m",
      "\u001b[0;31mIndexError\u001b[0m                                Traceback (most recent call last)",
      "Cell \u001b[0;32mIn[16], line 2\u001b[0m\n\u001b[1;32m      1\u001b[0m \u001b[38;5;28;01mfor\u001b[39;00m f \u001b[38;5;129;01min\u001b[39;00m \u001b[38;5;28mrange\u001b[39m(imaxfreq):\n\u001b[0;32m----> 2\u001b[0m     E \u001b[38;5;241m=\u001b[39m \u001b[43menergy\u001b[49m\u001b[43m(\u001b[49m\u001b[43mDH\u001b[49m\u001b[43m[\u001b[49m\u001b[43mf\u001b[49m\u001b[43m,\u001b[49m\u001b[43m \u001b[49m\u001b[43m:\u001b[49m\u001b[43m]\u001b[49m\u001b[43m)\u001b[49m \u001b[38;5;241m/\u001b[39m (nh \u001b[38;5;241m*\u001b[39m nh)\n\u001b[1;32m      3\u001b[0m     \u001b[38;5;28;01mif\u001b[39;00m E \u001b[38;5;241m==\u001b[39m \u001b[38;5;241m0\u001b[39m:\n\u001b[1;32m      4\u001b[0m         \u001b[38;5;28;01mcontinue\u001b[39;00m\n",
      "Cell \u001b[0;32mIn[11], line 6\u001b[0m, in \u001b[0;36menergy\u001b[0;34m(A)\u001b[0m\n\u001b[1;32m      4\u001b[0m \u001b[38;5;28;01mdef\u001b[39;00m \u001b[38;5;21menergy\u001b[39m(A):\n\u001b[1;32m      5\u001b[0m     total_energy \u001b[38;5;241m=\u001b[39m \u001b[38;5;241m0\u001b[39m\n\u001b[0;32m----> 6\u001b[0m     \u001b[38;5;28;01mfor\u001b[39;00m i \u001b[38;5;129;01min\u001b[39;00m \u001b[38;5;28mrange\u001b[39m(\u001b[43mA\u001b[49m\u001b[38;5;241;43m.\u001b[39;49m\u001b[43mshape\u001b[49m\u001b[43m[\u001b[49m\u001b[38;5;241;43m1\u001b[39;49m\u001b[43m]\u001b[49m):\n\u001b[1;32m      7\u001b[0m         \u001b[38;5;28;01mif\u001b[39;00m np\u001b[38;5;241m.\u001b[39msum(A[:, i]) \u001b[38;5;241m!=\u001b[39m \u001b[38;5;241m0\u001b[39m:\n\u001b[1;32m      8\u001b[0m             total_energy \u001b[38;5;241m+\u001b[39m\u001b[38;5;241m=\u001b[39m np\u001b[38;5;241m.\u001b[39mdot(A[:, i]\u001b[38;5;241m.\u001b[39mconj(), A[:, i])\n",
      "\u001b[0;31mIndexError\u001b[0m: tuple index out of range"
     ]
    }
   ],
   "source": [
    "for f in range(imaxfreq):\n",
    "    E = energy(DH[f, :]) / (nh * nh)\n",
    "    if E == 0:\n",
    "        continue\n",
    "    Etotal[f] = E\n",
    "    DH[f, :] /= E\n",
    "    MH[f, :], weights, NITER_f = wtcgls_mwni(DH[f, :], nh, nk, nx, map_, weights, 200, f)\n",
    "    DH[f, :] *= E\n",
    "    MH[f, :] *= E\n",
    "\n",
    "    # Optional plotting per frequency\n",
    "    if doplot == 1:\n",
    "        plt.subplot(311)\n",
    "        plt.plot(np.abs(np.fft.fft(DH[f, :])))\n",
    "        plt.subplot(312)\n",
    "        plt.plot(np.abs(np.fft.fft(MH[f, :])))\n",
    "        plt.subplot(313)\n",
    "        plt.plot(weights)\n",
    "        plt.show()"
   ]
  },
  {
   "cell_type": "code",
   "execution_count": 15,
   "metadata": {},
   "outputs": [
    {
     "name": "stdout",
     "output_type": "stream",
     "text": [
      "Size of model: (512, 128)\n"
     ]
    },
    {
     "name": "stderr",
     "output_type": "stream",
     "text": [
      "/tmp/ipykernel_12534/2092783771.py:14: DeprecationWarning: Conversion of an array with ndim > 0 to a scalar is deprecated, and will error in future. Ensure you extract a single element from your array before performing this operation. (Deprecated NumPy 1.25.)\n",
      "  h = np.arange(hi[0], hi[-1] + dh, dh)\n",
      "/tmp/ipykernel_12534/2092783771.py:37: DeprecationWarning: Conversion of an array with ndim > 0 to a scalar is deprecated, and will error in future. Ensure you extract a single element from your array before performing this operation. (Deprecated NumPy 1.25.)\n",
      "  x = np.arange(h[0], h[-1] + dx, dx)\n"
     ]
    },
    {
     "ename": "NameError",
     "evalue": "name 'eps' is not defined",
     "output_type": "error",
     "traceback": [
      "\u001b[0;31m---------------------------------------------------------------------------\u001b[0m",
      "\u001b[0;31mNameError\u001b[0m                                 Traceback (most recent call last)",
      "Cell \u001b[0;32mIn[15], line 61\u001b[0m\n\u001b[1;32m     58\u001b[0m weights \u001b[38;5;241m=\u001b[39m np\u001b[38;5;241m.\u001b[39mones(nk)\n\u001b[1;32m     60\u001b[0m \u001b[38;5;66;03m# Test dot product (requires implementation)\u001b[39;00m\n\u001b[0;32m---> 61\u001b[0m test \u001b[38;5;241m=\u001b[39m \u001b[43mdotproduct_test\u001b[49m\u001b[43m(\u001b[49m\u001b[43mnp\u001b[49m\u001b[38;5;241;43m.\u001b[39;49m\u001b[43mconcatenate\u001b[49m\u001b[43m(\u001b[49m\u001b[43m[\u001b[49m\u001b[43mDH\u001b[49m\u001b[43m[\u001b[49m\u001b[38;5;241;43m0\u001b[39;49m\u001b[43m,\u001b[49m\u001b[43m \u001b[49m\u001b[43m:\u001b[49m\u001b[43m]\u001b[49m\u001b[43m,\u001b[49m\u001b[43m \u001b[49m\u001b[43mnp\u001b[49m\u001b[38;5;241;43m.\u001b[39;49m\u001b[43mzeros\u001b[49m\u001b[43m(\u001b[49m\u001b[43mnk\u001b[49m\u001b[43m)\u001b[49m\u001b[43m]\u001b[49m\u001b[43m)\u001b[49m\u001b[43m,\u001b[49m\u001b[43m \u001b[49m\u001b[43mnp\u001b[49m\u001b[38;5;241;43m.\u001b[39;49m\u001b[43mfft\u001b[49m\u001b[38;5;241;43m.\u001b[39;49m\u001b[43mfft\u001b[49m\u001b[43m(\u001b[49m\u001b[43mMH\u001b[49m\u001b[43m[\u001b[49m\u001b[38;5;241;43m0\u001b[39;49m\u001b[43m,\u001b[49m\u001b[43m \u001b[49m\u001b[43m:\u001b[49m\u001b[43m]\u001b[49m\u001b[43m,\u001b[49m\u001b[43m \u001b[49m\u001b[43mnk\u001b[49m\u001b[43m)\u001b[49m\u001b[43m,\u001b[49m\u001b[43m \u001b[49m\u001b[43mweights\u001b[49m\u001b[43m,\u001b[49m\u001b[43m \u001b[49m\u001b[43mnh\u001b[49m\u001b[43m,\u001b[49m\u001b[43m \u001b[49m\u001b[43mnk\u001b[49m\u001b[43m,\u001b[49m\u001b[43m \u001b[49m\u001b[43mnx\u001b[49m\u001b[43m,\u001b[49m\u001b[43m \u001b[49m\u001b[43mmap_\u001b[49m\u001b[43m)\u001b[49m\n\u001b[1;32m     62\u001b[0m \u001b[38;5;28mprint\u001b[39m(\u001b[38;5;124m\"\u001b[39m\u001b[38;5;124mTest =\u001b[39m\u001b[38;5;124m\"\u001b[39m, test)\n\u001b[1;32m     64\u001b[0m weights \u001b[38;5;241m=\u001b[39m band_limit(weights, nk)\n",
      "Cell \u001b[0;32mIn[1], line 130\u001b[0m, in \u001b[0;36mdotproduct_test\u001b[0;34m(d, m, w, nh, nk, nx, map_)\u001b[0m\n\u001b[1;32m    128\u001b[0m M1 \u001b[38;5;241m=\u001b[39m np\u001b[38;5;241m.\u001b[39mrandom\u001b[38;5;241m.\u001b[39mrandom(m\u001b[38;5;241m.\u001b[39mshape) \u001b[38;5;241m+\u001b[39m \u001b[38;5;241m1\u001b[39mj \u001b[38;5;241m*\u001b[39m np\u001b[38;5;241m.\u001b[39mrandom\u001b[38;5;241m.\u001b[39mrandom(m\u001b[38;5;241m.\u001b[39mshape)\n\u001b[1;32m    129\u001b[0m D2 \u001b[38;5;241m=\u001b[39m sampling(M1, nh, nk, nx, map_, np\u001b[38;5;241m.\u001b[39mrandom\u001b[38;5;241m.\u001b[39mrandom(w\u001b[38;5;241m.\u001b[39mshape))\n\u001b[0;32m--> 130\u001b[0m D2 \u001b[38;5;241m=\u001b[39m np\u001b[38;5;241m.\u001b[39mconcatenate([D2[:nh], \u001b[43meps\u001b[49m \u001b[38;5;241m*\u001b[39m M1[:nk]])\n\u001b[1;32m    131\u001b[0m M2 \u001b[38;5;241m=\u001b[39m interpolate(D1, nh, nk, nx, map_, np\u001b[38;5;241m.\u001b[39mrandom\u001b[38;5;241m.\u001b[39mrandom(w\u001b[38;5;241m.\u001b[39mshape))\n\u001b[1;32m    132\u001b[0m M2 \u001b[38;5;241m+\u001b[39m\u001b[38;5;241m=\u001b[39m eps \u001b[38;5;241m*\u001b[39m D1[nh:nh \u001b[38;5;241m+\u001b[39m nk]\n",
      "\u001b[0;31mNameError\u001b[0m: name 'eps' is not defined"
     ]
    }
   ],
   "source": [
    "\n",
    "\n",
    "\n",
    "\n",
    "# Iterate over frequencies\n",
    "\n",
    "\n",
    "# Padding and inverse FFT to obtain interpolated model\n",
    "MH[imaxfreq:] = 0\n",
    "M = duplic(MH)\n",
    "model = np.real(np.fft.ifft(M, axis=0))[:nt, :]\n",
    "modelreg = model.copy()\n",
    "\n",
    "if ninterp > 1:\n",
    "    model = model[:, ::ninterp]\n",
    "\n",
    "print(\"Size of model:\", model.shape)\n",
    "\n",
    "# Interpolation\n",
    "index1 = np.arange(len(hi))\n",
    "index2 = np.linspace(0, len(hi) - 1, len(hi) * ninterp)\n",
    "xi = np.interp(index2, index1, hi)\n",
    "\n",
    "# Plotting results\n",
    "if doplot > 1:\n",
    "    plt.figure(firstfig)\n",
    "    plt.subplot(221)\n",
    "    wigb(data, 1, hh, t)\n",
    "    plt.subplot(222)\n",
    "    wigb(model, ninterp, hi, t)\n",
    "\n",
    "    plt.figure(firstfig + 1)\n",
    "    plt.imshow(np.fft.fftshift(np.abs(np.fft.fft2(data))), aspect='auto')\n",
    "    plt.figure(firstfig + 2)\n",
    "    plt.imshow(np.fft.fftshift(np.abs(np.fft.fft2(model))), aspect='auto')\n",
    "\n",
    "    residual = model - dataorig\n",
    "    plt.figure()\n",
    "    plt.subplot(221)\n",
    "    wigb(dataorig)\n",
    "    plt.subplot(222)\n",
    "    wigb(datakill)\n",
    "    plt.subplot(223)\n",
    "    wigb(model)\n",
    "    plt.subplot(224)\n",
    "    wigb(residual)\n",
    "    plt.show()\n",
    "\n",
    "# Optional save of model\n",
    "if testnumber == 1:\n",
    "    np.save(\"model.npy\", model)\n",
    "elif testnumber == 2:\n",
    "    np.save(\"curved_noisy_model2.npy\", model)\n",
    "elif testnumber == 3:\n",
    "    np.save(\"linear_clean_model.npy\", model)\n",
    "elif testnumber == 4:\n",
    "    np.save(\"linear_noisy_model.npy\", model)\n"
   ]
  },
  {
   "cell_type": "code",
   "execution_count": null,
   "metadata": {},
   "outputs": [],
   "source": []
  }
 ],
 "metadata": {
  "kernelspec": {
   "display_name": "general",
   "language": "python",
   "name": "python3"
  },
  "language_info": {
   "codemirror_mode": {
    "name": "ipython",
    "version": 3
   },
   "file_extension": ".py",
   "mimetype": "text/x-python",
   "name": "python",
   "nbconvert_exporter": "python",
   "pygments_lexer": "ipython3",
   "version": "3.12.2"
  }
 },
 "nbformat": 4,
 "nbformat_minor": 2
}
